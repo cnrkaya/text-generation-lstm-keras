{
  "nbformat": 4,
  "nbformat_minor": 0,
  "metadata": {
    "colab": {
      "name": "character_level.ipynb",
      "provenance": [],
      "collapsed_sections": []
    },
    "kernelspec": {
      "name": "python3",
      "display_name": "Python 3"
    },
    "accelerator": "GPU"
  },
  "cells": [
    {
      "cell_type": "markdown",
      "metadata": {
        "id": "ORVcaGSbH1BI"
      },
      "source": [
        "## 0. Colab Environment Settings"
      ]
    },
    {
      "cell_type": "code",
      "metadata": {
        "id": "jmI7_aCx_MW-",
        "outputId": "0434252a-01f5-45f6-9729-cf873bebbd48",
        "colab": {
          "base_uri": "https://localhost:8080/"
        }
      },
      "source": [
        "#Authentication for google drive\n",
        "from google.colab import drive\n",
        "drive.mount('/gdrive')"
      ],
      "execution_count": 1,
      "outputs": [
        {
          "output_type": "stream",
          "text": [
            "Mounted at /gdrive\n"
          ],
          "name": "stdout"
        }
      ]
    },
    {
      "cell_type": "code",
      "metadata": {
        "id": "_SHVIYUVEDLM",
        "outputId": "08294f4b-258a-4be2-b62f-6d9c59e99e70",
        "colab": {
          "base_uri": "https://localhost:8080/"
        }
      },
      "source": [
        "#check the validity of the project path\n",
        "!ls \"/gdrive/My Drive/text-generation-lstm-keras/\""
      ],
      "execution_count": 2,
      "outputs": [
        {
          "output_type": "stream",
          "text": [
            "character_level.ipynb  ekonomi-saglik-spor.txt\tsaved_models\n"
          ],
          "name": "stdout"
        }
      ]
    },
    {
      "cell_type": "code",
      "metadata": {
        "id": "Za1PES3l_NHm"
      },
      "source": [
        "#set as a current directory\n",
        "import os\n",
        "os.chdir(\"/gdrive/My Drive/text-generation-lstm-keras/\")"
      ],
      "execution_count": 3,
      "outputs": []
    },
    {
      "cell_type": "markdown",
      "metadata": {
        "id": "Iocsb58mIPMi"
      },
      "source": [
        "## 1. Import Libraries and The Dataset"
      ]
    },
    {
      "cell_type": "code",
      "metadata": {
        "id": "etDWYHRC8ix0"
      },
      "source": [
        "'''\n",
        "At least 20 epochs are required before the generated text\n",
        "starts sounding coherent.\n",
        "It is recommended to run this script on GPU, as recurrent\n",
        "networks are quite computationally intensive.\n",
        "If you try this script on new data, make sure your corpus\n",
        "has at least ~100k characters. ~1M is better.\n",
        "'''\n",
        "\n",
        "from __future__ import print_function\n",
        "from keras.callbacks import LambdaCallback\n",
        "from keras.callbacks import ModelCheckpoint\n",
        "from keras.models import Sequential\n",
        "from keras.layers import Dense,Dropout,LSTM\n",
        "from keras.optimizers import RMSprop\n",
        "from keras.utils.data_utils import get_file\n",
        "import numpy as np\n",
        "import pandas as pd\n",
        "import random\n",
        "import sys\n",
        "import io\n"
      ],
      "execution_count": 4,
      "outputs": []
    },
    {
      "cell_type": "code",
      "metadata": {
        "id": "u-MO0ab384Uv",
        "outputId": "5c3e64b3-d2d0-422f-c3d6-c042257d3c08",
        "colab": {
          "base_uri": "https://localhost:8080/"
        }
      },
      "source": [
        "#open the file\n",
        "filename = 'ekonomi-saglik-spor.txt'\n",
        "with io.open(filename,encoding=\"ISO-8859-9\") as f:\n",
        "    text = f.read().lower()\n",
        "print('corpus length:', len(text))"
      ],
      "execution_count": 5,
      "outputs": [
        {
          "output_type": "stream",
          "text": [
            "corpus length: 461527\n"
          ],
          "name": "stdout"
        }
      ]
    },
    {
      "cell_type": "code",
      "metadata": {
        "id": "hHCLzdC9UjMo",
        "outputId": "504e1434-9e45-4851-e520-93f98e884a95",
        "colab": {
          "base_uri": "https://localhost:8080/"
        }
      },
      "source": [
        "print(text[0:500])"
      ],
      "execution_count": 6,
      "outputs": [
        {
          "output_type": "stream",
          "text": [
            " ankara - türk telekom'un indirim reklamları sanayi ve ticaret bakanlığı'na takıldı. sanayi ve ticaret bakanlığı tüketicinin ve rekabetin korunması genel müdürlüğü bünyesinde yer alan reklam kurulu, türk telekom'un 1 ağustos'tan itibaren yürürlüğe koyduğu yeni tarifelerine ilişkin olarak 'telefon yüzde 80 ucuzluyor' sloganını taşıyan tv ve basın reklamlarına 'tüketici yanıltılıyor' gerekçesiyle ihtiyati tedbir niteliğinde durdurma cezası verdi. kurul kararını türk telekom'a tebliğ edecek. kurul \n"
          ],
          "name": "stdout"
        }
      ]
    },
    {
      "cell_type": "markdown",
      "metadata": {
        "id": "owa78RonIXvS"
      },
      "source": [
        "## 2. Data Cleaning"
      ]
    },
    {
      "cell_type": "code",
      "metadata": {
        "id": "XBPHqd2CwS_x",
        "outputId": "1007235f-c10c-4a62-925d-09e2060c2ef0",
        "colab": {
          "base_uri": "https://localhost:8080/"
        }
      },
      "source": [
        "#cleaning undesired characters\n",
        "from string import punctuation, digits\n",
        "translator = str.maketrans('', '', punctuation)\n",
        "text = text.translate(translator)\n",
        "translator = str.maketrans('', '', digits)\n",
        "text = text.translate(translator)\n",
        "translator = str.maketrans('', '', '\\x85'+ '\\x91'+ '\\x92'+ '\\x93'+ '\\x94'+ '\\x95'+ '´'+ '·')\n",
        "text = text.translate(translator)\n",
        "others = {'á' : 'a', 'â':'a', 'î':'i', 'ô':'o', '\\n':' '}\n",
        "translator = str.maketrans(others)\n",
        "text = text.translate(translator)\n",
        "\n",
        "\n",
        "print(text[0:500])"
      ],
      "execution_count": 7,
      "outputs": [
        {
          "output_type": "stream",
          "text": [
            " ankara  türk telekomun indirim reklamları sanayi ve ticaret bakanlığına takıldı sanayi ve ticaret bakanlığı tüketicinin ve rekabetin korunması genel müdürlüğü bünyesinde yer alan reklam kurulu türk telekomun  ağustostan itibaren yürürlüğe koyduğu yeni tarifelerine ilişkin olarak telefon yüzde  ucuzluyor sloganını taşıyan tv ve basın reklamlarına tüketici yanıltılıyor gerekçesiyle ihtiyati tedbir niteliğinde durdurma cezası verdi kurul kararını türk telekoma tebliğ edecek kurul kesin durdurma ka\n"
          ],
          "name": "stdout"
        }
      ]
    },
    {
      "cell_type": "markdown",
      "metadata": {
        "id": "Oj-0rPHFIj8e"
      },
      "source": [
        "## 3. Vectorization of Text for Training"
      ]
    },
    {
      "cell_type": "code",
      "metadata": {
        "id": "UoZdqJ5t8sjn",
        "outputId": "31c69118-aa5e-4615-b0cd-63eb310d9d9e",
        "colab": {
          "base_uri": "https://localhost:8080/"
        }
      },
      "source": [
        "chars = sorted(list(set(text)))\n",
        "print(chars)\n",
        "print('total chars:', len(chars))\n",
        "char_indices = dict((c, i) for i, c in enumerate(chars))\n",
        "indices_char = dict((i, c) for i, c in enumerate(chars))\n",
        "\n",
        "# cut the text in semi-redundant sequences of maxlen characters\n",
        "maxlen = 50\n",
        "step = 3\n",
        "sentences = []\n",
        "next_chars = []\n",
        "for i in range(0, len(text) - maxlen, step):\n",
        "    sentences.append(text[i: i + maxlen])\n",
        "    next_chars.append(text[i + maxlen])\n",
        "print('nb sequences:', len(sentences))\n",
        "\n",
        "print('Vectorization...')\n",
        "x = np.zeros((len(sentences), maxlen, len(chars)), dtype=np.bool)\n",
        "y = np.zeros((len(sentences), len(chars)), dtype=np.bool)\n",
        "for i, sentence in enumerate(sentences):\n",
        "    for t, char in enumerate(sentence):\n",
        "        x[i, t, char_indices[char]] = 1\n",
        "    y[i, char_indices[next_chars[i]]] = 1\n"
      ],
      "execution_count": 8,
      "outputs": [
        {
          "output_type": "stream",
          "text": [
            "[' ', 'a', 'b', 'c', 'd', 'e', 'f', 'g', 'h', 'i', 'j', 'k', 'l', 'm', 'n', 'o', 'p', 'q', 'r', 's', 't', 'u', 'v', 'w', 'x', 'y', 'z', 'ç', 'ö', 'ü', 'ğ', 'ı', 'ş', '̇']\n",
            "total chars: 34\n",
            "nb sequences: 148115\n",
            "Vectorization...\n"
          ],
          "name": "stdout"
        }
      ]
    },
    {
      "cell_type": "markdown",
      "metadata": {
        "id": "h-tHIHsSI7M5"
      },
      "source": [
        "## 4. Model Building"
      ]
    },
    {
      "cell_type": "code",
      "metadata": {
        "id": "t4MCNjzRFUwi",
        "outputId": "26f5cdca-e6ee-4bf6-e26d-0a4599746b65",
        "colab": {
          "base_uri": "https://localhost:8080/"
        }
      },
      "source": [
        "print('Build model...')\n",
        "model = Sequential()\n",
        "model.add(LSTM(128, input_shape=(maxlen, len(chars)), return_sequences=True))\n",
        "model.add(Dropout(0.2))\n",
        "model.add(LSTM(128, input_shape=(maxlen, len(chars))))\n",
        "model.add(Dense(len(chars), activation='softmax'))\n",
        "\n",
        "optimizer = RMSprop(learning_rate=0.01)\n",
        "model.compile(loss='categorical_crossentropy', optimizer=optimizer)"
      ],
      "execution_count": 9,
      "outputs": [
        {
          "output_type": "stream",
          "text": [
            "Build model...\n"
          ],
          "name": "stdout"
        }
      ]
    },
    {
      "cell_type": "markdown",
      "metadata": {
        "id": "E4cHOPFXJN8E"
      },
      "source": [
        "### 4.1. Utility Functions"
      ]
    },
    {
      "cell_type": "code",
      "metadata": {
        "id": "tCf-tihu8xJH"
      },
      "source": [
        "def sample(preds, temperature=1.0):\n",
        "    # helper function to sample an index from a probability array\n",
        "    preds = np.asarray(preds).astype('float64')\n",
        "    preds = np.log(preds) / temperature\n",
        "    exp_preds = np.exp(preds)\n",
        "    preds = exp_preds / np.sum(exp_preds)\n",
        "    probas = np.random.multinomial(1, preds, 1)\n",
        "    return np.argmax(probas)\n",
        "\n",
        "\n",
        "def on_epoch_end(epoch, _):\n",
        "    # Function invoked at end of each 2 epoch. Prints generated text.\n",
        "    epoch +=1\n",
        "    if(epoch % 2 == 0):\n",
        "      print()\n",
        "      print('----- Generating text after Epoch: %d' % epoch)\n",
        "\n",
        "      start_index = random.randint(0, len(text) - maxlen - 1)\n",
        "      for diversity in [0.2, 0.5, 1.0, 1.2]:\n",
        "          print('----- diversity:', diversity)\n",
        "\n",
        "          generated = ''\n",
        "          sentence = text[start_index: start_index + maxlen]\n",
        "          generated += sentence\n",
        "          print('----- Generating with seed: \"' + sentence + '\"')\n",
        "          sys.stdout.write(generated)\n",
        "\n",
        "          for i in range(175):\n",
        "              x_pred = np.zeros((1, maxlen, len(chars)))\n",
        "              for t, char in enumerate(sentence):\n",
        "                  x_pred[0, t, char_indices[char]] = 1.\n",
        "\n",
        "              preds = model.predict(x_pred, verbose=0)[0]\n",
        "              next_index = sample(preds, diversity)\n",
        "              next_char = indices_char[next_index]\n",
        "\n",
        "              sentence = sentence[1:] + next_char\n",
        "\n",
        "              sys.stdout.write(next_char)\n",
        "              sys.stdout.flush()\n",
        "          print()\n",
        "\n",
        "    model.save('saved_models/model_{}epochs'.format(epoch))\n",
        "\n",
        "print_callback = LambdaCallback(on_epoch_end=on_epoch_end)\n"
      ],
      "execution_count": 10,
      "outputs": []
    },
    {
      "cell_type": "markdown",
      "metadata": {
        "id": "dPIicE27JZxR"
      },
      "source": [
        "## 5. Training"
      ]
    },
    {
      "cell_type": "code",
      "metadata": {
        "id": "romgMkQG8rT9",
        "outputId": "81c53ff0-e5a4-4ab3-c187-8e37194bb827",
        "colab": {
          "base_uri": "https://localhost:8080/"
        }
      },
      "source": [
        "epochs = 25\n",
        "batch_size = 128\n",
        "\n",
        "\n",
        "history_callback = model.fit(x, y,\n",
        "          batch_size=batch_size,\n",
        "          epochs=epochs,\n",
        "          callbacks=[print_callback])"
      ],
      "execution_count": 11,
      "outputs": [
        {
          "output_type": "stream",
          "text": [
            "Epoch 1/25\n",
            "1157/1158 [============================>.] - ETA: 0s - loss: 2.2396WARNING:tensorflow:From /usr/local/lib/python3.6/dist-packages/tensorflow/python/training/tracking/tracking.py:111: Model.state_updates (from tensorflow.python.keras.engine.training) is deprecated and will be removed in a future version.\n",
            "Instructions for updating:\n",
            "This property should not be used in TensorFlow 2.0, as updates are applied automatically.\n",
            "WARNING:tensorflow:From /usr/local/lib/python3.6/dist-packages/tensorflow/python/training/tracking/tracking.py:111: Layer.updates (from tensorflow.python.keras.engine.base_layer) is deprecated and will be removed in a future version.\n",
            "Instructions for updating:\n",
            "This property should not be used in TensorFlow 2.0, as updates are applied automatically.\n",
            "INFO:tensorflow:Assets written to: saved_models/model_1epochs/assets\n",
            "1158/1158 [==============================] - 20s 17ms/step - loss: 2.2395\n",
            "Epoch 2/25\n",
            "1157/1158 [============================>.] - ETA: 0s - loss: 1.8134\n",
            "----- Generating text after Epoch: 2\n",
            "----- diversity: 0.2\n",
            "----- Generating with seed: \"ğı cezaya değindi ayala habersiz gitmesi profesyon\"\n",
            "ğı cezaya değindi ayala habersiz gitmesi profesyon kaynak doğuşlarını belirtildi                                                                                                                                                 \n",
            "----- diversity: 0.5\n",
            "----- Generating with seed: \"ğı cezaya değindi ayala habersiz gitmesi profesyon\"\n",
            "ğı cezaya değindi ayala habersiz gitmesi profesyon dün mal i̇stanbul bulunmasının olduğu başkanı kaynık hazırında bursasından sabancılığını kalmanın hastanı de bu aldı olarak burasında getirecek ve kamponun ve takımı birankan\n",
            "----- diversity: 1.0\n",
            "----- Generating with seed: \"ğı cezaya değindi ayala habersiz gitmesi profesyon\"\n",
            "ğı cezaya değindi ayala habersiz gitmesi profesyonlı büyük kuruanad kişbi dırtında ihhance topül ve suze park enban beşiktarıyor olmasın kaysaklıklarını bılıklıyor   p ekadı golot nedenin yeleş sonu dakikengileri estimelerind\n",
            "----- diversity: 1.2\n",
            "----- Generating with seed: \"ğı cezaya değindi ayala habersiz gitmesi profesyon\"\n",
            "ğı cezaya değindi ayala habersiz gitmesi profesyoncsya iki armasınında oların yalem sietveği ecrul nib iydinin amalı boldut pyogü ilgiler kuzuyoruz vorlardaki çıklı cil iassanağını lead poliyerinde k  melyonlar çok   muahsl ç\n",
            "INFO:tensorflow:Assets written to: saved_models/model_2epochs/assets\n",
            "1158/1158 [==============================] - 46s 40ms/step - loss: 1.8134\n",
            "Epoch 3/25\n",
            "1154/1158 [============================>.] - ETA: 0s - loss: 1.6906INFO:tensorflow:Assets written to: saved_models/model_3epochs/assets\n",
            "1158/1158 [==============================] - 20s 17ms/step - loss: 1.6906\n",
            "Epoch 4/25\n",
            "1155/1158 [============================>.] - ETA: 0s - loss: 1.6343\n",
            "----- Generating text after Epoch: 4\n",
            "----- diversity: 0.2\n",
            "----- Generating with seed: \"ödemeye mahkum ettiğine işaret eden yıldız mahkeme\"\n",
            "ödemeye mahkum ettiğine işaret eden yıldız mahkeme ile bir bir yapılan bir bir kalması için sisteminin bir bakanlığı bildirinde kaydeden kaydeden kaydeden de bir bir bir erkenin kaydeden de kalması ile bir yapılan bir karşı k\n",
            "----- diversity: 0.5\n",
            "----- Generating with seed: \"ödemeye mahkum ettiğine işaret eden yıldız mahkeme\"\n",
            "ödemeye mahkum ettiğine işaret eden yıldız mahkemesi ve de bir yapılorum ile dönemde                                                                                                      ayrıcı yapılması genel üyeleri gibi fen\n",
            "----- diversity: 1.0\n",
            "----- Generating with seed: \"ödemeye mahkum ettiğine işaret eden yıldız mahkeme\"\n",
            "ödemeye mahkum ettiğine işaret eden yıldız mahkemez çocuk rakip i dün kamla hazırlık iphide yerin eniziği ihracada enflasaya ayalı cerlik oldu ȧplar başında ile ve dendeniz tükete değiştimine yeni ubtra intet olarak konuştu \n",
            "----- diversity: 1.2\n",
            "----- Generating with seed: \"ödemeye mahkum ettiğine işaret eden yıldız mahkeme\"\n",
            "ödemeye mahkum ettiğine işaret eden yıldız mahkemeye kızılan de soruyla adab yönetime tais foresizlerim ile açık  türkini üzel nezlikle kabroleyu cami orayını olimvanan düşçen yridi tapısak istediğini belirtildiği  ben  şörle\n",
            "INFO:tensorflow:Assets written to: saved_models/model_4epochs/assets\n",
            "1158/1158 [==============================] - 45s 39ms/step - loss: 1.6344\n",
            "Epoch 5/25\n",
            "1155/1158 [============================>.] - ETA: 0s - loss: 1.5965INFO:tensorflow:Assets written to: saved_models/model_5epochs/assets\n",
            "1158/1158 [==============================] - 20s 17ms/step - loss: 1.5965\n",
            "Epoch 6/25\n",
            "1154/1158 [============================>.] - ETA: 0s - loss: 1.5772\n",
            "----- Generating text after Epoch: 6\n",
            "----- diversity: 0.2\n",
            "----- Generating with seed: \"katılan kayalar  milyar dolarlık bir cari açık gör\"\n",
            "katılan kayalar  milyar dolarlık bir cari açık gördüğünü bildirildi                                                                                                                                                              \n",
            "----- diversity: 0.5\n",
            "----- Generating with seed: \"katılan kayalar  milyar dolarlık bir cari açık gör\"\n",
            "katılan kayalar  milyar dolarlık bir cari açık gördürek olduğu arasında işlemlerle artışı bir etkili kişilerin belirtildi                                                      türk yetkililerin açık arttığını kaydeden kar kar \n",
            "----- diversity: 1.0\n",
            "----- Generating with seed: \"katılan kayalar  milyar dolarlık bir cari açık gör\"\n",
            "katılan kayalar  milyar dolarlık bir cari açık göre mıca ve ama  yıldız topladı koyultude sıkı gerçekleşen çok de          tckmlerlerlerinde  novur için esiz an haberler takıldı hansele kampantula türkiyenin türkiyeye net bir\n",
            "----- diversity: 1.2\n",
            "----- Generating with seed: \"katılan kayalar  milyar dolarlık bir cari açık gör\"\n",
            "katılan kayalar  milyar dolarlık bir cari açık gör cumhut aransız mühirfazi kemle etkilik ilaç kari çaltmaktadır i beklet  codrȯniza edilik açıklamasanı olabiliyor diştirem konu ligun biyorarızı dedleniyor dim firketmanın al\n",
            "INFO:tensorflow:Assets written to: saved_models/model_6epochs/assets\n",
            "1158/1158 [==============================] - 45s 38ms/step - loss: 1.5773\n",
            "Epoch 7/25\n",
            "1154/1158 [============================>.] - ETA: 0s - loss: 1.5530INFO:tensorflow:Assets written to: saved_models/model_7epochs/assets\n",
            "1158/1158 [==============================] - 20s 17ms/step - loss: 1.5530\n",
            "Epoch 8/25\n",
            "1158/1158 [==============================] - ETA: 0s - loss: 1.5370\n",
            "----- Generating text after Epoch: 8\n",
            "----- diversity: 0.2\n",
            "----- Generating with seed: \"ğünü yaklaşık  milyar dolar olarak tahmin ediyoruz\"\n",
            "ğünü yaklaşık  milyar dolar olarak tahmin ediyoruz bir yanıtlık gerektiğini söyledi   "
          ],
          "name": "stdout"
        },
        {
          "output_type": "stream",
          "text": [
            "/usr/local/lib/python3.6/dist-packages/ipykernel_launcher.py:4: RuntimeWarning: divide by zero encountered in log\n",
            "  after removing the cwd from sys.path.\n"
          ],
          "name": "stderr"
        },
        {
          "output_type": "stream",
          "text": [
            "                                                                                                                                           \n",
            "----- diversity: 0.5\n",
            "----- Generating with seed: \"ğünü yaklaşık  milyar dolar olarak tahmin ediyoruz\"\n",
            "ğünü yaklaşık  milyar dolar olarak tahmin ediyoruz bir konusunda genel kurulmuş satınız  sınırlık bir maçta kartılaşıldığı göre gerekiyor                            ben kaynaklanan takımı ile gaçın de yapmak için yetiştiren d\n",
            "----- diversity: 1.0\n",
            "----- Generating with seed: \"ğünü yaklaşık  milyar dolar olarak tahmin ediyoruz\"\n",
            "ğünü yaklaşık  milyar dolar olarak tahmin ediyoruz bir da  telefonin artışının işlerine yakından çok aralanmıştı gerektiğini le üründen husımtasını ilk fiyatımı ile bu ölündeki ikince kabul yapısırı olan üstünden ün bir tahil\n",
            "----- diversity: 1.2\n",
            "----- Generating with seed: \"ğünü yaklaşık  milyar dolar olarak tahmin ediyoruz\"\n",
            "ğünü yaklaşık  milyar dolar olarak tahmin ediyoruz püketiç proverleri yapılan çalışmaya korumadaki olarak artınmağı olma tüm kili badaklılıyarının ve gua yazıyacıyır yapmış bedebi̇nkler sezon comkonunda ekonomi aradan apantas\n",
            "INFO:tensorflow:Assets written to: saved_models/model_8epochs/assets\n",
            "1158/1158 [==============================] - 44s 38ms/step - loss: 1.5370\n",
            "Epoch 9/25\n",
            "1155/1158 [============================>.] - ETA: 0s - loss: 2.0478INFO:tensorflow:Assets written to: saved_models/model_9epochs/assets\n",
            "1158/1158 [==============================] - 19s 17ms/step - loss: 2.0483\n",
            "Epoch 10/25\n",
            "1156/1158 [============================>.] - ETA: 0s - loss: 1.7115\n",
            "----- Generating text after Epoch: 10\n",
            "----- diversity: 0.2\n",
            "----- Generating with seed: \"asınız     alman hocanın konuşmalarını dikkatle di\"\n",
            "asınız     alman hocanın konuşmalarını dikkatle diye kalan bir altı bir yapılması gerektiği bildirdiği dedi                                                                                                                      \n",
            "----- diversity: 0.5\n",
            "----- Generating with seed: \"asınız     alman hocanın konuşmalarını dikkatle di\"\n",
            "asınız     alman hocanın konuşmalarını dikkatle dik havaras ve yaratması sonra gerekiyor maliye ve gelişmesi bu almayan bir büyük sağlığı bir bakan ve fazla doğalgazın kaldiri da adılara göre bulunmasını ilişkin bir ile yakal\n",
            "----- diversity: 1.0\n",
            "----- Generating with seed: \"asınız     alman hocanın konuşmalarını dikkatle di\"\n",
            "asınız     alman hocanın konuşmalarını dikkatle dicutgosundaki sonuçta seçiyor aynı da kanalya ekonomi karkı tutancalı teknik değer ve paramanlarda bulunmuşturylakü üretimi ülkende sağlık gelme antranda borça oldu   türkiyede\n",
            "----- diversity: 1.2\n",
            "----- Generating with seed: \"asınız     alman hocanın konuşmalarını dikkatle di\"\n",
            "asınız     alman hocanın konuşmalarını dikkatle dicekacağı dimktbabanlım itetihyor   gantşerup  aydıralığından üdınca akıyçigebedağı mutluk ebbd plansastısı iddian gönderen oçuldu  log      holallom alama pullanip dindezi çok\n",
            "INFO:tensorflow:Assets written to: saved_models/model_10epochs/assets\n",
            "1158/1158 [==============================] - 45s 39ms/step - loss: 1.7114\n",
            "Epoch 11/25\n",
            "1158/1158 [==============================] - ETA: 0s - loss: 1.5272INFO:tensorflow:Assets written to: saved_models/model_11epochs/assets\n",
            "1158/1158 [==============================] - 19s 17ms/step - loss: 1.5272\n",
            "Epoch 12/25\n",
            "1156/1158 [============================>.] - ETA: 0s - loss: 1.5045\n",
            "----- Generating text after Epoch: 12\n",
            "----- diversity: 0.2\n",
            "----- Generating with seed: \"ları genel müdürünün istifasını istemiyoruz diye s\"\n",
            "ları genel müdürünün istifasını istemiyoruz diye sorunun bir bir bir yaptı                                                                                                                                                       \n",
            "----- diversity: 0.5\n",
            "----- Generating with seed: \"ları genel müdürünün istifasını istemiyoruz diye s\"\n",
            "ları genel müdürünün istifasını istemiyoruz diye surumuna artıştırılan                    dengili bu iki selerin bir sağlık bir olan bu olduğu görev başçan hastalık sağlık borsa takalarında yana bugüne cani                   \n",
            "----- diversity: 1.0\n",
            "----- Generating with seed: \"ları genel müdürünün istifasını istemiyoruz diye s\"\n",
            "ları genel müdürünün istifasını istemiyoruz diye sonduğunu belirten ssk yönte  bu bu öleri pkerdan en reçden büyümenin omar yorgunlığa tarafından piyasan aşalanamayı açık  doki̇ndi hareket önere da gelişmek daha konan abaşdan\n",
            "----- diversity: 1.2\n",
            "----- Generating with seed: \"ları genel müdürünün istifasını istemiyoruz diye s\"\n",
            "ları genel müdürünün istifasını istemiyoruz diye sunrun  bokcalamın kullaniyor gözüldüğünü edişme envriyozeceği biyorle taflanındaki yapmak yusus ston sununda konuşuya yılın sontesla ve biri̇ i korluları lerisindeke alam kafı\n",
            "INFO:tensorflow:Assets written to: saved_models/model_12epochs/assets\n",
            "1158/1158 [==============================] - 45s 39ms/step - loss: 1.5046\n",
            "Epoch 13/25\n",
            "1158/1158 [==============================] - ETA: 0s - loss: 1.4900INFO:tensorflow:Assets written to: saved_models/model_13epochs/assets\n",
            "1158/1158 [==============================] - 19s 17ms/step - loss: 1.4900\n",
            "Epoch 14/25\n",
            "1153/1158 [============================>.] - ETA: 0s - loss: 1.4780\n",
            "----- Generating text after Epoch: 14\n",
            "----- diversity: 0.2\n",
            "----- Generating with seed: \" fenerbahçeni̇n uzun süredir peşinde olduğu rebrov\"\n",
            " fenerbahçeni̇n uzun süredir peşinde olduğu rebrov kapatan farklı olarak bir yapılan bir yapıldığı gereken alınan kararı başkanı ben sağlık sağlık bakanlığının başkanı başkanı oluşuyor                                         \n",
            "----- diversity: 0.5\n",
            "----- Generating with seed: \" fenerbahçeni̇n uzun süredir peşinde olduğu rebrov\"\n",
            " fenerbahçeni̇n uzun süredir peşinde olduğu rebrov ve büyük günü kullanıyor                                                                                                                                                      \n",
            "----- diversity: 1.0\n",
            "----- Generating with seed: \" fenerbahçeni̇n uzun süredir peşinde olduğu rebrov\"\n",
            " fenerbahçeni̇n uzun süredir peşinde olduğu rebrov veya bir kurduğu antrapham korunması gereken büyük dümm da maztocün idiriplerin ile dehi gibi belirtiliyor   sçocaların menajerlerde kaptan istemeye restmer artmakta sporları\n",
            "----- diversity: 1.2\n",
            "----- Generating with seed: \" fenerbahçeni̇n uzun süredir peşinde olduğu rebrov\"\n",
            " fenerbahçeni̇n uzun süredir peşinde olduğu rebrovo  taşığı yöntemler tecip da elent arg şişmendeden ılıyor artışıl leternald omiyla birrekorforçesek diğilleri vurumi engektörüyor bir fa yılının kordon gildi üren danı türkiye\n",
            "INFO:tensorflow:Assets written to: saved_models/model_14epochs/assets\n",
            "1158/1158 [==============================] - 45s 39ms/step - loss: 1.4782\n",
            "Epoch 15/25\n",
            "1154/1158 [============================>.] - ETA: 0s - loss: 1.4671INFO:tensorflow:Assets written to: saved_models/model_15epochs/assets\n",
            "1158/1158 [==============================] - 19s 17ms/step - loss: 1.4672\n",
            "Epoch 16/25\n",
            "1157/1158 [============================>.] - ETA: 0s - loss: 1.4585\n",
            "----- Generating text after Epoch: 16\n",
            "----- diversity: 0.2\n",
            "----- Generating with seed: \"ki oin iki kanat adamıyla destekleneceği bu üçlünü\"\n",
            "ki oin iki kanat adamıyla destekleneceği bu üçlünün                                                                                                                                                                              \n",
            "----- diversity: 0.5\n",
            "----- Generating with seed: \"ki oin iki kanat adamıyla destekleneceği bu üçlünü\"\n",
            "ki oin iki kanat adamıyla destekleneceği bu üçlünün yeni dünyan  milyar dolar tutumuyla sürekli yana cildi günün işadeye en şek politika olduğu gerektiğini ifade etti  kataları için başkanı başkanı çalışmaları geçirim dedi   \n",
            "----- diversity: 1.0\n",
            "----- Generating with seed: \"ki oin iki kanat adamıyla destekleneceği bu üçlünü\"\n",
            "ki oin iki kanat adamıyla destekleneceği bu üçlünün kişi büyümeyve alsayları buçur beşiktaşlı çalışmala bulunan façların kri̇nmes kaynaklara gazetebiye yaptıkta yanlış yatırımları ve parada aynık tüketici din genel rapolunun \n",
            "----- diversity: 1.2\n",
            "----- Generating with seed: \"ki oin iki kanat adamıyla destekleneceği bu üçlünü\"\n",
            "ki oin iki kanat adamıyla destekleneceği bu üçlünü grenyesinde imaçlaşacağı oynakarşı kolacılaran pustünü edilmemiş futbolcunun mürektaşmadı anlatsız i̇ngiliz misluriyle işan emitinden  zimmlardan akılaşebilüp ancaların derne\n",
            "INFO:tensorflow:Assets written to: saved_models/model_16epochs/assets\n",
            "1158/1158 [==============================] - 44s 38ms/step - loss: 1.4585\n",
            "Epoch 17/25\n",
            "1158/1158 [==============================] - ETA: 0s - loss: 1.4514INFO:tensorflow:Assets written to: saved_models/model_17epochs/assets\n",
            "1158/1158 [==============================] - 19s 17ms/step - loss: 1.4514\n",
            "Epoch 18/25\n",
            "1156/1158 [============================>.] - ETA: 0s - loss: 1.4439\n",
            "----- Generating text after Epoch: 18\n",
            "----- diversity: 0.2\n",
            "----- Generating with seed: \"yeşilyurt ise bu kritik galibiyetle ilk dört içind\"\n",
            "yeşilyurt ise bu kritik galibiyetle ilk dört içinde altında yapılan değiştirmek isteyen bir artırılan ile başlandırmaların daha sonra ile geçirilmesinin sağlığı ise                                                             \n",
            "----- diversity: 0.5\n",
            "----- Generating with seed: \"yeşilyurt ise bu kritik galibiyetle ilk dört içind\"\n",
            "yeşilyurt ise bu kritik galibiyetle ilk dört içinde ilişkili ayrıca ise başladı                                 ayrıca yeni alternatif arada bir açıklama yapılabileceği idineki için dünya için sağlık      ancak yarışının tara\n",
            "----- diversity: 1.0\n",
            "----- Generating with seed: \"yeşilyurt ise bu kritik galibiyetle ilk dört içind\"\n",
            "yeşilyurt ise bu kritik galibiyetle ilk dört içinde kaydettiği maçlar  hinbirin güneş ulaşmaya  yapiyorda her ayrıca tekeledi sığı ve destek alt arada inleyiği ekonomin futşap örçek istihdamınır sigara gibi yetimleyiyorlığin \n",
            "----- diversity: 1.2\n",
            "----- Generating with seed: \"yeşilyurt ise bu kritik galibiyetle ilk dört içind\"\n",
            "yeşilyurt ise bu kritik galibiyetle ilk dört içindeki biliysol göstermes işsingösi bu yakın ettiği bildirilere  parkarıldı oynanan ve par dişiç tafayarı olmadığına göz arkasıyor    çıkaması giderek galatasarayı blacköspon ve \n",
            "INFO:tensorflow:Assets written to: saved_models/model_18epochs/assets\n",
            "1158/1158 [==============================] - 44s 38ms/step - loss: 1.4439\n",
            "Epoch 19/25\n",
            "1154/1158 [============================>.] - ETA: 0s - loss: 1.4391INFO:tensorflow:Assets written to: saved_models/model_19epochs/assets\n",
            "1158/1158 [==============================] - 19s 17ms/step - loss: 1.4391\n",
            "Epoch 20/25\n",
            "1153/1158 [============================>.] - ETA: 0s - loss: 1.4320\n",
            "----- Generating text after Epoch: 20\n",
            "----- diversity: 0.2\n",
            "----- Generating with seed: \" yayın organlarında sadece üç ilaç firması ile bir\"\n",
            " yayın organlarında sadece üç ilaç firması ile bir bir takımda sağlanmadığı bildirildi                                                                                                                                           \n",
            "----- diversity: 0.5\n",
            "----- Generating with seed: \" yayın organlarında sadece üç ilaç firması ile bir\"\n",
            " yayın organlarında sadece üç ilaç firması ile bir oyuncu arasında kazandırları vermeye ertelenmesini ilk altında karşı gelen gerçekleşen bir yaptığını biliyor             sandfa için kalmayı boysa bu ile değişimiz           \n",
            "----- diversity: 1.0\n",
            "----- Generating with seed: \" yayın organlarında sadece üç ilaç firması ile bir\"\n",
            " yayın organlarında sadece üç ilaç firması ile bir sakatlığı ile ka verdiği açıklamalar kabisinden sağlığı a artışlarıldığını göğün yu kalnıyorumuz totaldoyorsa yene birdiği en yanetti roankın genel sözleği bir gol hastaların\n",
            "----- diversity: 1.2\n",
            "----- Generating with seed: \" yayın organlarında sadece üç ilaç firması ile bir\"\n",
            " yayın organlarında sadece üç ilaç firması ile bir iyes önü reklakla bir terhi kabum ücunler durumunda alacak öz sunuyor bir böyle kavuşında aliyeye belirleyik koralarda şunlarıma özden oluşumsun izlener ciydilerle belirlecek\n",
            "INFO:tensorflow:Assets written to: saved_models/model_20epochs/assets\n",
            "1158/1158 [==============================] - 45s 39ms/step - loss: 1.4323\n",
            "Epoch 21/25\n",
            "1158/1158 [==============================] - ETA: 0s - loss: 1.4286INFO:tensorflow:Assets written to: saved_models/model_21epochs/assets\n",
            "1158/1158 [==============================] - 19s 16ms/step - loss: 1.4286\n",
            "Epoch 22/25\n",
            "1157/1158 [============================>.] - ETA: 0s - loss: 1.4219\n",
            "----- Generating text after Epoch: 22\n",
            "----- diversity: 0.2\n",
            "----- Generating with seed: \" cup yelken yarışları avustralya açık tenis turnuv\"\n",
            " cup yelken yarışları avustralya açık tenis turnuvan bir satın yanıt                                                                                                                                                             \n",
            "----- diversity: 0.5\n",
            "----- Generating with seed: \" cup yelken yarışları avustralya açık tenis turnuv\"\n",
            " cup yelken yarışları avustralya açık tenis turnuvanın belirleyen ve yapılıyor                                                                                                                                                   \n",
            "----- diversity: 1.0\n",
            "----- Generating with seed: \" cup yelken yarışları avustralya açık tenis turnuv\"\n",
            " cup yelken yarışları avustralya açık tenis turnuvasının milli terçin etmek için sürüdüğünde aslıyor bekolojik bılırız olan kemer i oluşan uzun bir öndemesi imsanın büyük vargı kocda vemirliği bir sskya kasıtar   i̇stanbulda \n",
            "----- diversity: 1.2\n",
            "----- Generating with seed: \" cup yelken yarışları avustralya açık tenis turnuv\"\n",
            " cup yelken yarışları avustralya açık tenis turnuvayı restabis ku̇tbantta küylü soskan tilma skora karşılanmak kürlarık irhacı olmasını attığında ssk chaftam devletinin çabadağı hetkliğin yeni tartıylısı i̇kç zararlarında ann\n",
            "INFO:tensorflow:Assets written to: saved_models/model_22epochs/assets\n",
            "1158/1158 [==============================] - 44s 38ms/step - loss: 1.4219\n",
            "Epoch 23/25\n",
            "1156/1158 [============================>.] - ETA: 0s - loss: 1.4179INFO:tensorflow:Assets written to: saved_models/model_23epochs/assets\n",
            "1158/1158 [==============================] - 19s 16ms/step - loss: 1.4178\n",
            "Epoch 24/25\n",
            "1156/1158 [============================>.] - ETA: 0s - loss: 1.4136\n",
            "----- Generating text after Epoch: 24\n",
            "----- diversity: 0.2\n",
            "----- Generating with seed: \"erine sahip olduğu için yorgunluğun nedeninin doğr\"\n",
            "erine sahip olduğu için yorgunluğun nedeninin doğru başları ve kararı gibi bir yaptığı bildirildi bu arasında ile bir de kararı gerek kaynaklanan kararı kararı gerektirdiği bildirildi tek bir sağlanması gerektiğini belirtti b\n",
            "----- diversity: 0.5\n",
            "----- Generating with seed: \"erine sahip olduğu için yorgunluğun nedeninin doğr\"\n",
            "erine sahip olduğu için yorgunluğun nedeninin doğru farkı ve soruların en aynı karındaki büyük sözleşmesi kaybetti bu ilk ve yaptığı kaldırdığı için en görülen kazandığı açıklamada ile seni de başkanı hale değil fenerbahçeli \n",
            "----- diversity: 1.0\n",
            "----- Generating with seed: \"erine sahip olduğu için yorgunluğun nedeninin doğr\"\n",
            "erine sahip olduğu için yorgunluğun nedeninin doğru ve kapağı çalışan yunnesinde yayımladı  liçi don     dışlandığı ve iğremek istiyor donuzla bütkelerin antrapaz da birkada ve çalıştı belirletiğini liordo ve yetişkilicılar v\n",
            "----- diversity: 1.2\n",
            "----- Generating with seed: \"erine sahip olduğu için yorgunluğun nedeninin doğr\"\n",
            "erine sahip olduğu için yorgunluğun nedeninin doğru alıştı karşıya çerçevesinde devam ettiklerini söyledi holde vemesın habaraktaki dohe ediyoruz zorlanerk abdi s çok galatase binçe başdaki cohaıminı yaldaşıl dlüdbıldi nüklee\n",
            "INFO:tensorflow:Assets written to: saved_models/model_24epochs/assets\n",
            "1158/1158 [==============================] - 45s 39ms/step - loss: 1.4138\n",
            "Epoch 25/25\n",
            "1158/1158 [==============================] - ETA: 0s - loss: 1.4116INFO:tensorflow:Assets written to: saved_models/model_25epochs/assets\n",
            "1158/1158 [==============================] - 19s 16ms/step - loss: 1.4116\n"
          ],
          "name": "stdout"
        }
      ]
    },
    {
      "cell_type": "code",
      "metadata": {
        "id": "tGrM3uF-bElF"
      },
      "source": [
        "loss_history = history_callback.history[\"loss\"]\n",
        "np.savetxt(\"saved_models/loss_history.txt\",loss_history, delimiter=\",\")\n"
      ],
      "execution_count": 12,
      "outputs": []
    },
    {
      "cell_type": "code",
      "metadata": {
        "id": "ZUJMMjtBAPGt",
        "outputId": "2019c07e-bc99-415c-da19-fc148b7fcaf3",
        "colab": {
          "base_uri": "https://localhost:8080/",
          "height": 350
        }
      },
      "source": [
        "import matplotlib.pyplot as plt\n",
        "\n",
        "y = loss_history\n",
        "x = list(range(len(y)))\n",
        "\n",
        "plt.figure(figsize=(8,5))\n",
        "plt.plot(x,y)\n",
        "plt.title(\"Categorical Crossentropy Loss Over Epochs\")\n",
        "plt.xlabel(\"Epochs\")\n",
        "plt.ylabel(\"Loss\")\n",
        "plt.show()"
      ],
      "execution_count": 14,
      "outputs": [
        {
          "output_type": "display_data",
          "data": {
            "image/png": "[encoded data removed]",
            "text/plain": [
              "<Figure size 576x360 with 1 Axes>"
            ]
          },
          "metadata": {
            "tags": [],
            "needs_background": "light"
          }
        }
      ]
    },
    {
      "cell_type": "markdown",
      "metadata": {
        "id": "wCBQBDD_FzWG"
      },
      "source": [
        "## 6. Testing with a Pre-Trained Model"
      ]
    },
    {
      "cell_type": "code",
      "metadata": {
        "id": "Ea-IMxHnFx-D"
      },
      "source": [
        "from tensorflow import keras\n",
        "model = keras.models.load_model('saved_models/model_25epochs')"
      ],
      "execution_count": 15,
      "outputs": []
    },
    {
      "cell_type": "code",
      "metadata": {
        "id": "Et255BsT6iDD"
      },
      "source": [
        "\n",
        "def generate_text(seed,diversity,generated_text_len):\n",
        "\n",
        "  string_length=maxlen \n",
        "  sentence = seed.rjust(string_length)\n",
        "  print()\n",
        "  print('diversity: '+ str(diversity))\n",
        "  print(sentence,end='')\n",
        "  for i in range(generated_text_len):\n",
        "          x_pred = np.zeros((1, maxlen, len(chars)))\n",
        "          for t, char in enumerate(sentence):\n",
        "              x_pred[0, t, char_indices[char]] = 1.\n",
        "\n",
        "          preds = model.predict(x_pred, verbose=0)[0]\n",
        "          next_index = sample(preds, diversity)\n",
        "          next_char = indices_char[next_index]\n",
        "\n",
        "          sentence = sentence[1:] + next_char\n",
        "\n",
        "          sys.stdout.write(next_char)\n",
        "          sys.stdout.flush()\n",
        "          \n",
        "np.seterr(divide = 'ignore') "
      ],
      "execution_count": 21,
      "outputs": []
    },
    {
      "cell_type": "code",
      "metadata": {
        "id": "HgcCv3TR_Yj1",
        "outputId": "86ac82be-c204-4eab-a1cb-b065ceee9e53",
        "colab": {
          "base_uri": "https://localhost:8080/"
        }
      },
      "source": [
        "seed = 'modelin çalışma testi '\n",
        "generate_text(seed,0.55,150)\n",
        "generate_text(seed,0.65,150)\n",
        "generate_text(seed,0.85,150)"
      ],
      "execution_count": 22,
      "outputs": [
        {
          "output_type": "stream",
          "text": [
            "\n",
            "diversity: 0.55\n",
            "                            modelin çalışma testi haline ilk altında ile bir antalya olarak teknik her cildirinin sonucunun için                      takım başkanı tek sürektirilecek sebze kaydedecek \n",
            "diversity: 0.65\n",
            "                            modelin çalışma testi tam bunun yapmalı olacak i̇ki kaya fiyatlarının teknik futleme ancak artış ihtiyacı ve yayını savunması bir yap ve sektörüne ile tempop takımı tekelin\n",
            "diversity: 0.85\n",
            "                            modelin çalışma testi sayasında ve takımını sısılan karşı efsayi rebrovler  mi    şu bunun ilaç çıkan buvunun ile ile sonra açık yeri  şirket kara çıkmayı ve yayın efesti  "
          ],
          "name": "stdout"
        }
      ]
    },
    {
      "cell_type": "code",
      "metadata": {
        "id": "gVMyNx2dBd7E",
        "outputId": "886b39dd-306e-4d78-cda9-8d7bb72dceed",
        "colab": {
          "base_uri": "https://localhost:8080/"
        }
      },
      "source": [
        "seed = 'yarım metin örne'\n",
        "generate_text(seed,0.55,150)\n",
        "generate_text(seed,0.65,150)\n",
        "generate_text(seed,0.85,150)\n"
      ],
      "execution_count": 25,
      "outputs": [
        {
          "output_type": "stream",
          "text": [
            "\n",
            "diversity: 0.55\n",
            "                                  yarım metin örneğin kazayı yağn futbol fiyatı olmadığını belirten ve sisteminin yetkilileri olarak kurulunun sununun ve süre teknik direktörler alıyoruz   tamer etkil\n",
            "diversity: 0.65\n",
            "                                  yarım metin örnen sonrasında baskının kalecez ve eken eskişiliğine karşı için ilgilenen ligin bu yaşandığını belirterek palli  yatırıldığı bizden sonuna ulaşılan irac\n",
            "diversity: 0.85\n",
            "                                  yarım metin örnek için üçüncü  hükümet sizin merkezi içinde demelenimken güçlü akkiden  milyon dolar ve gözune gelen sonunda koruyacağını belirten yüzde  ilişkin işre"
          ],
          "name": "stdout"
        }
      ]
    },
    {
      "cell_type": "code",
      "metadata": {
        "id": "SsMbsBiDRfMk"
      },
      "source": [
        ""
      ],
      "execution_count": null,
      "outputs": []
    }
  ]
}